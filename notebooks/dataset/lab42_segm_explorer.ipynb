{
 "cells": [
  {
   "cell_type": "code",
   "execution_count": null,
   "id": "039e6e4b",
   "metadata": {},
   "outputs": [],
   "source": [
    "\"\"\"\n",
    "# Exploring the lab42/cov-segm-v3 Dataset with `dataops`\n",
    "\n",
    "This notebook uses the `src.dataops` module to load and visualize samples\n",
    "from the `lab42/cov-segm-v3` dataset.\n",
    "\"\"\""
   ]
  },
  {
   "cell_type": "code",
   "execution_count": null,
   "id": "6e2d95b9",
   "metadata": {
    "lines_to_next_cell": 0
   },
   "outputs": [],
   "source": []
  },
  {
   "cell_type": "code",
   "execution_count": null,
   "id": "efdad0e7",
   "metadata": {
    "title": "Imports and Setup"
   },
   "outputs": [],
   "source": [
    "import logging\n",
    "import os  # Added for environ check\n",
    "import sys\n",
    "from pathlib import Path"
   ]
  },
  {
   "cell_type": "code",
   "execution_count": null,
   "id": "93a8a081",
   "metadata": {},
   "outputs": [],
   "source": [
    "# Add src directory to path for imports - Adjust based on notebook location\n",
    "# Assumes notebook is run from project root ($HOME/vibe/vibe_coding)\n",
    "project_root = (\n",
    "    Path(os.environ.get(\"HOME\", \"/Users/weimu\")) / \"Development/vibe/vibe_coding\"\n",
    ")  # Use env var or default\n",
    "src_path = project_root\n",
    "if str(src_path) not in sys.path:\n",
    "    print(f\"Appending to sys.path: {src_path}\")\n",
    "    sys.path.append(str(src_path))\n",
    "else:\n",
    "    print(f\"{src_path} already in sys.path\")"
   ]
  },
  {
   "cell_type": "code",
   "execution_count": null,
   "id": "b5f3da5f",
   "metadata": {},
   "outputs": [],
   "source": [
    "try:\n",
    "    import datasets\n",
    "    import matplotlib.pyplot as plt  # To prevent errors if no plots shown\n",
    "    from PIL import Image\n",
    "\n",
    "    from dataops.cov_segm.loader import load_sample\n",
    "    from dataops.cov_segm.visualizer import visualize_prompt_masks\n",
    "\n",
    "    print(\"Imports successful.\")\n",
    "except ImportError as e:\n",
    "    print(f\"Error importing modules: {e}\")\n",
    "    print(f\"PYTHONPATH: {os.environ.get('PYTHONPATH')}\")\n",
    "    print(f\"sys.path: {sys.path}\")\n",
    "    print(\"Ensure 'datasets', 'Pillow', 'matplotlib' are installed in the correct environment\")\n",
    "    print(\"and the 'src' directory is accessible.\")\n",
    "    # Optionally, raise the error or exit\n",
    "    raise"
   ]
  },
  {
   "cell_type": "code",
   "execution_count": null,
   "id": "b5fb225a",
   "metadata": {},
   "outputs": [],
   "source": [
    "# Configure logging\n",
    "logging.basicConfig(level=logging.INFO, format=\"%(asctime)s - %(levelname)s - %(message)s\")\n",
    "logger = logging.getLogger(__name__)"
   ]
  },
  {
   "cell_type": "code",
   "execution_count": null,
   "id": "e6fa6001",
   "metadata": {
    "title": "Load Dataset"
   },
   "outputs": [],
   "source": [
    "DATASET_NAME = \"lab42/cov-segm-v3\"\n",
    "SPLIT = \"validation\"\n",
    "NUM_SAMPLES_TO_LOAD = 20  # Reduced for faster testing"
   ]
  },
  {
   "cell_type": "code",
   "execution_count": null,
   "id": "9fbace5c",
   "metadata": {
    "lines_to_next_cell": 2
   },
   "outputs": [],
   "source": [
    "logger.info(f\"Loading dataset: {DATASET_NAME}, split: {SPLIT}, samples: {NUM_SAMPLES_TO_LOAD}\")\n",
    "try:\n",
    "    # Use streaming=True for potentially faster initial load if needed later,\n",
    "    # but loading directly is simpler for small numbers.\n",
    "    dset = datasets.load_dataset(\n",
    "        DATASET_NAME,\n",
    "        split=f\"{SPLIT}[:{NUM_SAMPLES_TO_LOAD}]\",\n",
    "        # trust_remote_code=True # Might be needed depending on dataset/HF version\n",
    "    )\n",
    "    logger.info(f\"Loaded {len(dset)} samples.\")\n",
    "except Exception as e:\n",
    "    logger.error(f\"Failed to load dataset: {e}\", exc_info=True)\n",
    "    dset = None\n",
    "    # You might want to display the error in the notebook cell output too\n",
    "    print(f\"ERROR loading dataset: {e}\")"
   ]
  },
  {
   "cell_type": "markdown",
   "id": "11109023",
   "metadata": {
    "magic_args": "Process and Visualize Samples"
   },
   "source": []
  },
  {
   "cell_type": "code",
   "execution_count": null,
   "id": "48208dc9",
   "metadata": {},
   "outputs": [],
   "source": [
    "if dset:\n",
    "    logger.info(\"Processing and visualizing samples...\")\n",
    "    # Ensure matplotlib backend is suitable for non-interactive saving or inline display\n",
    "    %matplotlib inline\n",
    "    plt.ioff()  # Turn off interactive mode initially\n",
    "\n",
    "    for i, sample_dict in enumerate(dset):\n",
    "        sample_id = sample_dict.get(\"id\", f\"index_{i}\")\n",
    "        logger.info(f\"--- Processing Sample {i} (ID: {sample_id}) ---\")\n",
    "        print(f\"--- Processing Sample {i} (ID: {sample_id}) ---\")  # Also print to notebook output\n",
    "        try:\n",
    "            processed_sample = load_sample(sample_dict)\n",
    "            logger.info(f\"Successfully loaded data for sample {i}.\")\n",
    "\n",
    "            # Visualize based on prompts\n",
    "            visualized_count = 0\n",
    "            if processed_sample and \"processed_conversations\" in processed_sample:\n",
    "                for conv_idx, conv_item in enumerate(processed_sample[\"processed_conversations\"]):\n",
    "                    if conv_item.get(\"phrases\"):\n",
    "                        # Use first phrase text as the prompt title\n",
    "                        prompt_text = conv_item[\"phrases\"][0][\"text\"]\n",
    "                        if prompt_text != \"object\":\n",
    "                            continue\n",
    "\n",
    "                        logger.info(\n",
    "                            f\"  Visualizing for conversation {conv_idx}, prompt: '{prompt_text}'\"\n",
    "                        )\n",
    "                        print(f\"  Visualizing prompt: '{prompt_text}'\")\n",
    "\n",
    "                        try:\n",
    "                            # Call the visualizer function\n",
    "                            fig = visualize_prompt_masks(\n",
    "                                processed_sample,\n",
    "                                prompt=prompt_text)\n",
    "                            if fig:\n",
    "                                plt.figure(fig.number)  # Ensure we're using the figure returned\n",
    "                                plt.show()  # Display the plot inline in the notebook\n",
    "                                visualized_count += 1\n",
    "                            else:\n",
    "                                logger.warning(\n",
    "                                    f\"  Visualization skipped for prompt '{prompt_text}' (no masks found or error).\"\n",
    "                                )\n",
    "                                print(\n",
    "                                    f\"  Visualization skipped for prompt '{prompt_text}' (no masks found or error).\"\n",
    "                                )\n",
    "\n",
    "                        except Exception as vis_e:\n",
    "                            logger.error(\n",
    "                                f\"  Error visualizing prompt '{prompt_text}' for sample {i}: {vis_e}\",\n",
    "                                exc_info=True,\n",
    "                            )\n",
    "                            print(f\"  ERROR visualizing prompt '{prompt_text}': {vis_e}\")\n",
    "                    else:\n",
    "                        logger.warning(\n",
    "                            f\"  Skipping conversation {conv_idx} in sample {i} as it has no phrases.\"\n",
    "                        )\n",
    "                        print(f\"  Skipping conversation {conv_idx} (no phrases).\")\n",
    "\n",
    "            if visualized_count == 0:\n",
    "                logger.warning(f\"No visualizations generated for sample {i}.\")\n",
    "                print(f\"No visualizations generated for sample {i}.\")\n",
    "\n",
    "        except Exception as load_e:\n",
    "            logger.error(\n",
    "                f\"Failed to load or process sample {i} (ID: {sample_id}): {load_e}\", exc_info=True\n",
    "            )\n",
    "            print(f\"ERROR loading/processing sample {i} (ID: {sample_id}): {load_e}\")\n",
    "\n",
    "    plt.ion()  # Turn interactive mode back on if needed at the end\n",
    "else:\n",
    "    logger.warning(\"Dataset not loaded. Skipping visualization.\")\n",
    "    print(\"Dataset not loaded. Skipping visualization.\")"
   ]
  },
  {
   "cell_type": "code",
   "execution_count": null,
   "id": "a5c7464f",
   "metadata": {},
   "outputs": [],
   "source": [
    "logger.info(\"Notebook execution finished.\")\n",
    "print(\"Notebook execution finished.\")"
   ]
  },
  {
   "cell_type": "code",
   "execution_count": null,
   "id": "e2e515a1",
   "metadata": {},
   "outputs": [],
   "source": []
  }
 ],
 "metadata": {
  "jupytext": {
   "encoding": "# -*- coding: utf-8 -*-"
  },
  "kernelspec": {
   "display_name": "vbl",
   "language": "python",
   "name": "python3"
  },
  "language_info": {
   "name": "python",
   "version": "3.12.9"
  }
 },
 "nbformat": 4,
 "nbformat_minor": 5
}
